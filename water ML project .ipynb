{
 "cells": [
  {
   "cell_type": "code",
   "execution_count": 1,
   "id": "16d4d548-bd42-4ffc-b6e8-1c26b04d2ef2",
   "metadata": {},
   "outputs": [
    {
     "name": "stdout",
     "output_type": "stream",
     "text": [
      "Soil Data:\n",
      "   fips        lat        lon  elevation  slope1  slope2  slope3  slope4  \\\n",
      "0  1001  32.536382 -86.644490         63  0.0419  0.2788  0.2984  0.2497   \n",
      "1  1005  31.870670 -85.405456        146  0.0158  0.1868  0.5441  0.2424   \n",
      "2  1003  30.659218 -87.746067         52  0.0746  0.4370  0.4415  0.0469   \n",
      "3  1007  33.015893 -87.127148         93  0.0144  0.1617  0.3714  0.3493   \n",
      "4  1009  33.977448 -86.567246        198  0.0050  0.0872  0.2799  0.3576   \n",
      "\n",
      "   slope5  slope6  ...  CULTRF_LAND  CULTIR_LAND  CULT_LAND  SQ1  SQ2  SQ3  \\\n",
      "0  0.1142  0.0170  ...    56.293411     1.014811  57.308224    1    1    1   \n",
      "1  0.0106  0.0003  ...    72.578804     1.828159  74.406960    3    2    1   \n",
      "2  0.0000  0.0000  ...    59.843639     2.996914  62.840553    3    2    1   \n",
      "3  0.0898  0.0134  ...     1.916593     0.008330   1.924924    3    2    1   \n",
      "4  0.1477  0.1037  ...     1.891909     0.027488   1.919397    3    2    1   \n",
      "\n",
      "   SQ4  SQ5  SQ6  SQ7  \n",
      "0    1    1    1    2  \n",
      "1    1    1    1    1  \n",
      "2    2    1    1    1  \n",
      "3    1    1    1    1  \n",
      "4    1    1    1    1  \n",
      "\n",
      "[5 rows x 32 columns]\n",
      "Train Timeseries Data:\n",
      "   fips        date  PRECTOT      PS   QV2M    T2M  T2MDEW  T2MWET  T2M_MAX  \\\n",
      "0  1001  2000-01-01     0.22  100.51   9.65  14.74   13.51   13.51    20.96   \n",
      "1  1001  2000-01-02     0.20  100.55  10.42  16.69   14.71   14.71    22.80   \n",
      "2  1001  2000-01-03     3.65  100.15  11.76  18.49   16.52   16.52    22.73   \n",
      "3  1001  2000-01-04    15.95  100.29   6.42  11.40    6.09    6.10    18.09   \n",
      "4  1001  2000-01-05     0.00  101.15   2.95   3.86   -3.29   -3.20    10.82   \n",
      "\n",
      "   T2M_MIN  ...     TS  WS10M  WS10M_MAX  WS10M_MIN  WS10M_RANGE  WS50M  \\\n",
      "0    11.46  ...  14.65   2.20       2.94       1.49         1.46   4.85   \n",
      "1    12.61  ...  16.60   2.52       3.43       1.83         1.60   5.33   \n",
      "2    15.32  ...  18.41   4.03       5.33       2.66         2.67   7.53   \n",
      "3     2.16  ...  11.31   3.84       5.67       2.08         3.59   6.73   \n",
      "4    -2.66  ...   2.65   1.60       2.50       0.52         1.98   2.94   \n",
      "\n",
      "   WS50M_MAX  WS50M_MIN  WS50M_RANGE  score  \n",
      "0       6.04       3.23         2.81    NaN  \n",
      "1       6.13       3.72         2.41    NaN  \n",
      "2       9.52       5.87         3.66    NaN  \n",
      "3       9.31       3.74         5.58    1.0  \n",
      "4       4.85       0.65         4.19    NaN  \n",
      "\n",
      "[5 rows x 21 columns]\n"
     ]
    }
   ],
   "source": [
    "import pandas as pd\n",
    "\n",
    "# Load soil data\n",
    "soil = pd.read_csv(\"C:/Users/lenovo/Downloads/water resource managment/soil_data.csv\")\n",
    "print(\"Soil Data:\")\n",
    "print(soil.head())\n",
    "\n",
    "# Load train timeseries data\n",
    "train = pd.read_csv(\"C:/Users/lenovo/Downloads/water resource managment/train_timeseries.csv\")\n",
    "print(\"Train Timeseries Data:\")\n",
    "print(train.head())\n",
    "\n"
   ]
  },
  {
   "cell_type": "code",
   "execution_count": 2,
   "id": "0d42d8a6-74ce-4c9c-8c62-e437ceebbc23",
   "metadata": {},
   "outputs": [
    {
     "name": "stdout",
     "output_type": "stream",
     "text": [
      "fips                  0\n",
      "date                  0\n",
      "PRECTOT               0\n",
      "PS                    0\n",
      "QV2M                  0\n",
      "T2M                   0\n",
      "T2MDEW                0\n",
      "T2MWET                0\n",
      "T2M_MAX               0\n",
      "T2M_MIN               0\n",
      "T2M_RANGE             0\n",
      "TS                    0\n",
      "WS10M                 0\n",
      "WS10M_MAX             0\n",
      "WS10M_MIN             0\n",
      "WS10M_RANGE           0\n",
      "WS50M                 0\n",
      "WS50M_MAX             0\n",
      "WS50M_MIN             0\n",
      "WS50M_RANGE           0\n",
      "score          16543884\n",
      "dtype: int64\n"
     ]
    }
   ],
   "source": [
    "print(train.isnull().sum())\n"
   ]
  },
  {
   "cell_type": "code",
   "execution_count": 3,
   "id": "40ff2fd6-1e13-4a8f-97f3-d8ea74f586a6",
   "metadata": {},
   "outputs": [
    {
     "name": "stdout",
     "output_type": "stream",
     "text": [
      "(2756796, 21)\n"
     ]
    }
   ],
   "source": [
    "train_labeled = train.dropna(subset=[\"score\"])\n",
    "print(train_labeled.shape)\n"
   ]
  },
  {
   "cell_type": "code",
   "execution_count": 4,
   "id": "a7180678-474e-4482-b012-6ef90b1a5aaa",
   "metadata": {},
   "outputs": [
    {
     "name": "stdout",
     "output_type": "stream",
     "text": [
      "score\n",
      "0.0000    1480827\n",
      "1.0000     219135\n",
      "2.0000     123789\n",
      "3.0000      82801\n",
      "4.0000      45841\n",
      "           ...   \n",
      "0.1145          1\n",
      "2.0172          1\n",
      "0.6750          1\n",
      "1.3998          1\n",
      "0.6060          1\n",
      "Name: count, Length: 55395, dtype: int64\n"
     ]
    }
   ],
   "source": [
    "print(train_labeled[\"score\"].value_counts())\n"
   ]
  },
  {
   "cell_type": "code",
   "execution_count": 5,
   "id": "a9784fcc-910b-4e73-b8c8-17f69b324ea6",
   "metadata": {},
   "outputs": [
    {
     "name": "stdout",
     "output_type": "stream",
     "text": [
      "(2756796, 52)\n"
     ]
    }
   ],
   "source": [
    "merged = train_labeled.merge(soil, on=\"fips\", how=\"left\")\n",
    "print(merged.shape)\n",
    "\n"
   ]
  },
  {
   "cell_type": "code",
   "execution_count": 6,
   "id": "aab92129-a058-48dd-b030-23c8700e7797",
   "metadata": {},
   "outputs": [
    {
     "name": "stdout",
     "output_type": "stream",
     "text": [
      "score_class\n",
      "0    1652230\n",
      "1     466944\n",
      "2     295331\n",
      "3     196802\n",
      "4     145489\n",
      "Name: count, dtype: int64\n"
     ]
    }
   ],
   "source": [
    "\n",
    "merged[\"score_class\"] = merged[\"score\"].round().clip(0, 4).astype(int)\n",
    "print(merged[\"score_class\"].value_counts())\n"
   ]
  },
  {
   "cell_type": "code",
   "execution_count": 7,
   "id": "698fab77-456c-4171-9801-0c484e0ae690",
   "metadata": {},
   "outputs": [],
   "source": [
    "from sklearn.model_selection import train_test_split\n",
    "\n",
    "X = merged.drop(columns=[\"score\", \"score_class\", \"date\", \"fips\"])  # features\n",
    "y = merged[\"score_class\"]\n",
    "\n",
    "X_train, X_test, y_train, y_test = train_test_split(\n",
    "    X, y, test_size=0.2, stratify=y, random_state=42\n",
    ")\n"
   ]
  },
  {
   "cell_type": "code",
   "execution_count": 8,
   "id": "69ab9796-13fe-4df0-a04c-be1dc7c23b99",
   "metadata": {},
   "outputs": [
    {
     "name": "stdout",
     "output_type": "stream",
     "text": [
      "              precision    recall  f1-score   support\n",
      "\n",
      "           0       0.69      0.97      0.81    330447\n",
      "           1       0.62      0.22      0.32     93389\n",
      "           2       0.59      0.22      0.32     59066\n",
      "           3       0.60      0.24      0.34     39360\n",
      "           4       0.68      0.36      0.48     29098\n",
      "\n",
      "    accuracy                           0.68    551360\n",
      "   macro avg       0.64      0.40      0.45    551360\n",
      "weighted avg       0.66      0.68      0.62    551360\n",
      "\n"
     ]
    }
   ],
   "source": [
    "from sklearn.ensemble import RandomForestClassifier\n",
    "from sklearn.metrics import classification_report\n",
    "\n",
    "clf = RandomForestClassifier(\n",
    "    n_estimators=100,\n",
    "    class_weight=\"balanced\",  # handles imbalance\n",
    "    random_state=42,\n",
    "    n_jobs=-1\n",
    ")\n",
    "\n",
    "clf.fit(X_train, y_train)\n",
    "y_pred = clf.predict(X_test)\n",
    "\n",
    "print(classification_report(y_test, y_pred))\n"
   ]
  },
  {
   "cell_type": "code",
   "execution_count": 9,
   "id": "077fa75a-6a00-437e-afa6-85c7e2c08b6a",
   "metadata": {},
   "outputs": [],
   "source": [
    "# Convert date to datetime first\n",
    "merged[\"date\"] = pd.to_datetime(merged[\"date\"])\n",
    "\n",
    "# Extract useful numeric features from date\n",
    "merged[\"year\"] = merged[\"date\"].dt.year\n",
    "merged[\"month\"] = merged[\"date\"].dt.month\n",
    "merged[\"dayofyear\"] = merged[\"date\"].dt.dayofyear\n",
    "\n",
    "# Drop the original date column so only numeric features remain\n",
    "X = merged.drop([\"score_class\", \"date\"], axis=1)\n",
    "y = merged[\"score_class\"]\n"
   ]
  },
  {
   "cell_type": "code",
   "execution_count": 14,
   "id": "caa47b43-3f7d-42db-b57c-3c1cfb807c5a",
   "metadata": {},
   "outputs": [],
   "source": [
    "# Drop columns that cause leakage\n",
    "X = merged.drop([\"score_class\", \"date\", \"score\"], axis=1)\n",
    "y = merged[\"score_class\"]\n"
   ]
  },
  {
   "cell_type": "code",
   "execution_count": 15,
   "id": "baae8cdd-3a95-4a78-85a8-4813a3aa6433",
   "metadata": {},
   "outputs": [
    {
     "name": "stdout",
     "output_type": "stream",
     "text": [
      "fips               int64\n",
      "PRECTOT          float64\n",
      "PS               float64\n",
      "QV2M             float64\n",
      "T2M              float64\n",
      "T2MDEW           float64\n",
      "T2MWET           float64\n",
      "T2M_MAX          float64\n",
      "T2M_MIN          float64\n",
      "T2M_RANGE        float64\n",
      "TS               float64\n",
      "WS10M            float64\n",
      "WS10M_MAX        float64\n",
      "WS10M_MIN        float64\n",
      "WS10M_RANGE      float64\n",
      "WS50M            float64\n",
      "WS50M_MAX        float64\n",
      "WS50M_MIN        float64\n",
      "WS50M_RANGE      float64\n",
      "score            float64\n",
      "lat              float64\n",
      "lon              float64\n",
      "elevation          int64\n",
      "slope1           float64\n",
      "slope2           float64\n",
      "slope3           float64\n",
      "slope4           float64\n",
      "slope5           float64\n",
      "slope6           float64\n",
      "slope7           float64\n",
      "slope8           float64\n",
      "aspectN          float64\n",
      "aspectE          float64\n",
      "aspectS          float64\n",
      "aspectW          float64\n",
      "aspectUnknown    float64\n",
      "WAT_LAND         float64\n",
      "NVG_LAND         float64\n",
      "URB_LAND         float64\n",
      "GRS_LAND         float64\n",
      "FOR_LAND         float64\n",
      "CULTRF_LAND      float64\n",
      "CULTIR_LAND      float64\n",
      "CULT_LAND        float64\n",
      "SQ1                int64\n",
      "SQ2                int64\n",
      "SQ3                int64\n",
      "SQ4                int64\n",
      "SQ5                int64\n",
      "SQ6                int64\n",
      "SQ7                int64\n",
      "year               int32\n",
      "month              int32\n",
      "dayofyear          int32\n",
      "dtype: object\n",
      "              precision    recall  f1-score   support\n",
      "\n",
      "           0       1.00      1.00      1.00    330447\n",
      "           1       1.00      1.00      1.00     93389\n",
      "           2       1.00      1.00      1.00     59066\n",
      "           3       1.00      1.00      1.00     39360\n",
      "           4       1.00      1.00      1.00     29098\n",
      "\n",
      "    accuracy                           1.00    551360\n",
      "   macro avg       1.00      1.00      1.00    551360\n",
      "weighted avg       1.00      1.00      1.00    551360\n",
      "\n"
     ]
    }
   ],
   "source": [
    "import pandas as pd\n",
    "from sklearn.model_selection import train_test_split\n",
    "from sklearn.ensemble import RandomForestClassifier\n",
    "from sklearn.metrics import classification_report\n",
    "\n",
    "# 1. Convert date to datetime\n",
    "merged[\"date\"] = pd.to_datetime(merged[\"date\"])\n",
    "\n",
    "# 2. Extract useful features\n",
    "merged[\"year\"] = merged[\"date\"].dt.year\n",
    "merged[\"month\"] = merged[\"date\"].dt.month\n",
    "merged[\"dayofyear\"] = merged[\"date\"].dt.dayofyear\n",
    "\n",
    "# 3. Define X and y (drop \"date\" to avoid dtype error!)\n",
    "X = merged.drop([\"score_class\", \"date\"], axis=1)\n",
    "y = merged[\"score_class\"]\n",
    "\n",
    "# 4. Check if ANY non-numeric columns are left\n",
    "print(X.dtypes)\n",
    "\n",
    "# 5. Train-test split\n",
    "X_train, X_test, y_train, y_test = train_test_split(\n",
    "    X, y, test_size=0.2, random_state=42, stratify=y\n",
    ")\n",
    "\n",
    "# 6. Train model\n",
    "model = RandomForestClassifier(n_estimators=100, random_state=42)\n",
    "model.fit(X_train, y_train)\n",
    "\n",
    "# 7. Evaluate\n",
    "y_pred = model.predict(X_test)\n",
    "print(classification_report(y_test, y_pred))\n"
   ]
  },
  {
   "cell_type": "code",
   "execution_count": 23,
   "id": "0336404b-b11e-4f34-bd98-5eb6ecfc5fff",
   "metadata": {},
   "outputs": [
    {
     "name": "stdout",
     "output_type": "stream",
     "text": [
      "fips               int64\n",
      "PRECTOT          float64\n",
      "PS               float64\n",
      "QV2M             float64\n",
      "T2M              float64\n",
      "T2MDEW           float64\n",
      "T2MWET           float64\n",
      "T2M_MAX          float64\n",
      "T2M_MIN          float64\n",
      "T2M_RANGE        float64\n",
      "TS               float64\n",
      "WS10M            float64\n",
      "WS10M_MAX        float64\n",
      "WS10M_MIN        float64\n",
      "WS10M_RANGE      float64\n",
      "WS50M            float64\n",
      "WS50M_MAX        float64\n",
      "WS50M_MIN        float64\n",
      "WS50M_RANGE      float64\n",
      "score            float64\n",
      "lat              float64\n",
      "lon              float64\n",
      "elevation          int64\n",
      "slope1           float64\n",
      "slope2           float64\n",
      "slope3           float64\n",
      "slope4           float64\n",
      "slope5           float64\n",
      "slope6           float64\n",
      "slope7           float64\n",
      "slope8           float64\n",
      "aspectN          float64\n",
      "aspectE          float64\n",
      "aspectS          float64\n",
      "aspectW          float64\n",
      "aspectUnknown    float64\n",
      "WAT_LAND         float64\n",
      "NVG_LAND         float64\n",
      "URB_LAND         float64\n",
      "GRS_LAND         float64\n",
      "FOR_LAND         float64\n",
      "CULTRF_LAND      float64\n",
      "CULTIR_LAND      float64\n",
      "CULT_LAND        float64\n",
      "SQ1                int64\n",
      "SQ2                int64\n",
      "SQ3                int64\n",
      "SQ4                int64\n",
      "SQ5                int64\n",
      "SQ6                int64\n",
      "SQ7                int64\n",
      "year               int32\n",
      "month              int32\n",
      "dayofyear          int32\n",
      "dtype: object\n"
     ]
    }
   ],
   "source": [
    "print(X.dtypes)\n"
   ]
  },
  {
   "cell_type": "code",
   "execution_count": 24,
   "id": "3dd13fe8-0d98-42c0-ad3f-455787f8a7e6",
   "metadata": {},
   "outputs": [
    {
     "data": {
      "text/html": [
       "<div>\n",
       "<style scoped>\n",
       "    .dataframe tbody tr th:only-of-type {\n",
       "        vertical-align: middle;\n",
       "    }\n",
       "\n",
       "    .dataframe tbody tr th {\n",
       "        vertical-align: top;\n",
       "    }\n",
       "\n",
       "    .dataframe thead th {\n",
       "        text-align: right;\n",
       "    }\n",
       "</style>\n",
       "<table border=\"1\" class=\"dataframe\">\n",
       "  <thead>\n",
       "    <tr style=\"text-align: right;\">\n",
       "      <th></th>\n",
       "    </tr>\n",
       "  </thead>\n",
       "  <tbody>\n",
       "    <tr>\n",
       "      <th>0</th>\n",
       "    </tr>\n",
       "    <tr>\n",
       "      <th>1</th>\n",
       "    </tr>\n",
       "    <tr>\n",
       "      <th>2</th>\n",
       "    </tr>\n",
       "    <tr>\n",
       "      <th>3</th>\n",
       "    </tr>\n",
       "    <tr>\n",
       "      <th>4</th>\n",
       "    </tr>\n",
       "  </tbody>\n",
       "</table>\n",
       "</div>"
      ],
      "text/plain": [
       "Empty DataFrame\n",
       "Columns: []\n",
       "Index: [0, 1, 2, 3, 4]"
      ]
     },
     "execution_count": 24,
     "metadata": {},
     "output_type": "execute_result"
    }
   ],
   "source": [
    "X.select_dtypes(exclude=[\"number\"]).head()\n"
   ]
  },
  {
   "cell_type": "code",
   "execution_count": 25,
   "id": "701c2a43-90c1-4be0-a281-68c64ad688e1",
   "metadata": {},
   "outputs": [
    {
     "name": "stdout",
     "output_type": "stream",
     "text": [
      "              precision    recall  f1-score   support\n",
      "\n",
      "           0       1.00      1.00      1.00    330447\n",
      "           1       1.00      1.00      1.00     93389\n",
      "           2       1.00      1.00      1.00     59066\n",
      "           3       1.00      1.00      1.00     39360\n",
      "           4       1.00      1.00      1.00     29098\n",
      "\n",
      "    accuracy                           1.00    551360\n",
      "   macro avg       1.00      1.00      1.00    551360\n",
      "weighted avg       1.00      1.00      1.00    551360\n",
      "\n",
      "[[330447      0      0      0      0]\n",
      " [     0  93388      1      0      0]\n",
      " [     0      2  59056      8      0]\n",
      " [     0      0     17  39331     12]\n",
      " [     0      0      1    115  28982]]\n"
     ]
    }
   ],
   "source": [
    "from sklearn.metrics import classification_report, confusion_matrix\n",
    "\n",
    "y_pred = model.predict(X_test)\n",
    "\n",
    "print(classification_report(y_test, y_pred))\n",
    "print(confusion_matrix(y_test, y_pred))\n"
   ]
  },
  {
   "cell_type": "code",
   "execution_count": 26,
   "id": "0f30ccd3-671b-429a-96f3-3db3e639cddd",
   "metadata": {},
   "outputs": [
    {
     "name": "stdout",
     "output_type": "stream",
     "text": [
      "score        0.741501\n",
      "year         0.029625\n",
      "lon          0.014698\n",
      "lat          0.010917\n",
      "dayofyear    0.010698\n",
      "T2M_MAX      0.010246\n",
      "T2M_RANGE    0.010193\n",
      "PS           0.009584\n",
      "TS           0.008691\n",
      "T2M          0.007867\n",
      "dtype: float64\n"
     ]
    }
   ],
   "source": [
    "import pandas as pd\n",
    "\n",
    "importances = pd.Series(model.feature_importances_, index=X.columns)\n",
    "print(importances.sort_values(ascending=False).head(10))\n"
   ]
  },
  {
   "cell_type": "code",
   "execution_count": null,
   "id": "d6f9c7a2-5a28-4236-a5cd-5d9ed5417f72",
   "metadata": {},
   "outputs": [],
   "source": []
  }
 ],
 "metadata": {
  "kernelspec": {
   "display_name": "Python [conda env:base] *",
   "language": "python",
   "name": "conda-base-py"
  },
  "language_info": {
   "codemirror_mode": {
    "name": "ipython",
    "version": 3
   },
   "file_extension": ".py",
   "mimetype": "text/x-python",
   "name": "python",
   "nbconvert_exporter": "python",
   "pygments_lexer": "ipython3",
   "version": "3.12.7"
  }
 },
 "nbformat": 4,
 "nbformat_minor": 5
}
